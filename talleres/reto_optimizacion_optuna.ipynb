{
 "cells": [
  {
   "cell_type": "markdown",
   "metadata": {
    "id": "Ci_0-dy7RB0y"
   },
   "source": [
    "# **Optimización de XGBoost con Optuna**\n",
    "\n",
    "**Introducción**\n",
    "\n",
    "Entrenar y optimizar un modelo XGBoost para predecir precios de viviendas usando el dataset California Housing de scikit-learn. Se utiliza Optuna para encontrar los mejores hiperparámetros que minimicen el error cuadrático medio (RMSE)."
   ]
  },
  {
   "cell_type": "markdown",
   "metadata": {
    "id": "HrCER_zLjlOz"
   },
   "source": [
    "# 1. Importación de librerias"
   ]
  },
  {
   "cell_type": "code",
   "execution_count": null,
   "metadata": {
    "executionInfo": {
     "elapsed": 8640,
     "status": "ok",
     "timestamp": 1732811975872,
     "user": {
      "displayName": "Fredy Ramirez",
      "userId": "04196799857250133485"
     },
     "user_tz": 300
    },
    "id": "hYaQ0jYX7RdC"
   },
   "outputs": [],
   "source": [
    "# Importar las bibliotecas necesarias\n",
    "# -------------------------------------------\n",
    "import numpy as np\n",
    "import optuna\n",
    "import xgboost as xgb\n",
    "from sklearn.datasets import fetch_california_housing\n",
    "from sklearn.model_selection import train_test_split, cross_val_score\n",
    "from sklearn.metrics import root_mean_squared_error, mean_absolute_percentage_error, mean_absolute_error\n",
    "from sklearn.preprocessing import StandardScaler"
   ]
  },
  {
   "cell_type": "code",
   "execution_count": 11,
   "metadata": {},
   "outputs": [],
   "source": [
    "# Opcional: Desactivar la verificacion SSL por si se produce un error SSLCERTIFICATE_VERIFY_FAILED al\n",
    "# descargar los datos\n",
    "import os, ssl\n",
    "if (not os.environ.get('PYTHONHTTPSVERIFY', '') and\n",
    "    getattr(ssl, '_create_unverified_context', None)): \n",
    "    ssl._create_default_https_context = ssl._create_unverified_context"
   ]
  },
  {
   "cell_type": "markdown",
   "metadata": {
    "id": "3mYbRPg8j7H8"
   },
   "source": [
    "# 2. Carga y procesamiento de datos\n",
    "Se utiliza el dataset California Housing de sklearn y se divide en conjuntos de entrenamiento y prueba."
   ]
  },
  {
   "cell_type": "code",
   "execution_count": 12,
   "metadata": {
    "executionInfo": {
     "elapsed": 1549,
     "status": "ok",
     "timestamp": 1732811982202,
     "user": {
      "displayName": "Fredy Ramirez",
      "userId": "04196799857250133485"
     },
     "user_tz": 300
    },
    "id": "Jngw96637RXD"
   },
   "outputs": [],
   "source": [
    "data = fetch_california_housing(as_frame=False)\n",
    "X, y = data.data, data.target\n",
    "\n",
    "# Dividir el dataset en 80% entrenamiento y 20% prueba\n",
    "X_train, X_test, y_train, y_test = train_test_split(X, y, test_size=0.2, random_state=42)"
   ]
  },
  {
   "cell_type": "code",
   "execution_count": 13,
   "metadata": {},
   "outputs": [],
   "source": [
    "scaler = StandardScaler()\n",
    "X_train = scaler.fit_transform(X_train)\n",
    "X_test = scaler.transform(X_test)"
   ]
  },
  {
   "cell_type": "markdown",
   "metadata": {
    "id": "I2QyRJngkUNb"
   },
   "source": [
    "# 3. Optimizar los hiperparámetros usando Optuna.\n"
   ]
  },
  {
   "cell_type": "code",
   "execution_count": 14,
   "metadata": {
    "executionInfo": {
     "elapsed": 193,
     "status": "ok",
     "timestamp": 1732811986168,
     "user": {
      "displayName": "Fredy Ramirez",
      "userId": "04196799857250133485"
     },
     "user_tz": 300
    },
    "id": "ZvRoo0WC7bn1"
   },
   "outputs": [],
   "source": [
    "def objective(trial):\n",
    "    '''Esta función evalúa los hiperparámetros sugeridos por Optuna\n",
    "    utilizando la métrica de error cuadrático medio (RMSE).'''\n",
    "    # Hiperparámetros a optimizar\n",
    "    params = {\n",
    "        'objective': 'reg:squarederror',\n",
    "        'eval_metric': 'rmse',\n",
    "        'n_estimators': trial.suggest_int('n_estimators', 50, 500),\n",
    "        'max_depth': trial.suggest_int('max_depth', 1, 10),\n",
    "        'learning_rate': trial.suggest_float('learning_rate', 0.01, 0.3),\n",
    "        'subsample': trial.suggest_float('subsample', 0.5, 1.0),\n",
    "        'colsample_bytree': trial.suggest_float('colsample_bytree', 0.5, 1.0),\n",
    "        'gamma': trial.suggest_float('gamma', 0, 10),\n",
    "        'min_child_weight': trial.suggest_int('min_child_weight', 1, 10),\n",
    "    }\n",
    "\n",
    "    # Crear el modelo con los parámetros sugeridos\n",
    "    model = xgb.XGBRegressor(**params, random_state=42)\n",
    "\n",
    "    # Evaluar desempeño con validacion cruzada\n",
    "    score = cross_val_score(model, X_train, y_train, scoring='neg_root_mean_squared_error', n_jobs=-1, cv=5)\n",
    "    rmse = score.mean()\n",
    "    return rmse"
   ]
  },
  {
   "cell_type": "markdown",
   "metadata": {
    "id": "0PDREdTqk9fn"
   },
   "source": [
    "# 4. Crear un estudio con Optuna"
   ]
  },
  {
   "cell_type": "code",
   "execution_count": 15,
   "metadata": {},
   "outputs": [
    {
     "name": "stderr",
     "output_type": "stream",
     "text": [
      "[I 2024-11-28 22:06:35,316] A new study created in memory with name: no-name-3df16cb9-2840-4869-bfaf-7487274868f5\n",
      "[I 2024-11-28 22:06:35,909] Trial 0 finished with value: -0.4983423439316109 and parameters: {'n_estimators': 450, 'max_depth': 8, 'learning_rate': 0.20568447518768634, 'subsample': 0.8960182330592356, 'colsample_bytree': 0.9248943075705749, 'gamma': 3.122724147933542, 'min_child_weight': 1}. Best is trial 0 with value: -0.4983423439316109.\n",
      "[I 2024-11-28 22:06:36,173] Trial 1 finished with value: -0.501808203506544 and parameters: {'n_estimators': 200, 'max_depth': 5, 'learning_rate': 0.14836816078019133, 'subsample': 0.8930808657436098, 'colsample_bytree': 0.6439174530591841, 'gamma': 2.4038234693481684, 'min_child_weight': 7}. Best is trial 0 with value: -0.4983423439316109.\n",
      "[I 2024-11-28 22:06:36,474] Trial 2 finished with value: -0.5051717310609414 and parameters: {'n_estimators': 204, 'max_depth': 4, 'learning_rate': 0.15247856264624426, 'subsample': 0.5752611161836119, 'colsample_bytree': 0.567604899013618, 'gamma': 2.1517545354267775, 'min_child_weight': 3}. Best is trial 0 with value: -0.4983423439316109.\n",
      "[I 2024-11-28 22:06:36,941] Trial 3 finished with value: -0.4965531082300056 and parameters: {'n_estimators': 233, 'max_depth': 6, 'learning_rate': 0.11929210835530704, 'subsample': 0.8177413245820162, 'colsample_bytree': 0.858141569687482, 'gamma': 2.863247893244514, 'min_child_weight': 2}. Best is trial 3 with value: -0.4965531082300056.\n",
      "[I 2024-11-28 22:06:37,417] Trial 4 finished with value: -0.5442254697114529 and parameters: {'n_estimators': 405, 'max_depth': 3, 'learning_rate': 0.07776897736601372, 'subsample': 0.8388829076483781, 'colsample_bytree': 0.7263188220893467, 'gamma': 6.261558935700766, 'min_child_weight': 4}. Best is trial 3 with value: -0.4965531082300056.\n",
      "[I 2024-11-28 22:06:37,667] Trial 5 finished with value: -0.6048849211751497 and parameters: {'n_estimators': 224, 'max_depth': 1, 'learning_rate': 0.16192230021197965, 'subsample': 0.6850115466666664, 'colsample_bytree': 0.6716137269402676, 'gamma': 7.4874330452036375, 'min_child_weight': 9}. Best is trial 3 with value: -0.4965531082300056.\n",
      "[I 2024-11-28 22:06:37,919] Trial 6 finished with value: -0.4898869021423996 and parameters: {'n_estimators': 121, 'max_depth': 10, 'learning_rate': 0.1359170052469998, 'subsample': 0.919095220783275, 'colsample_bytree': 0.534126016539447, 'gamma': 4.040681760584572, 'min_child_weight': 5}. Best is trial 6 with value: -0.4898869021423996.\n",
      "[I 2024-11-28 22:06:38,618] Trial 7 finished with value: -0.5177655103054553 and parameters: {'n_estimators': 197, 'max_depth': 9, 'learning_rate': 0.02083150014721519, 'subsample': 0.8230052497908814, 'colsample_bytree': 0.7618564975835667, 'gamma': 9.769171772709221, 'min_child_weight': 6}. Best is trial 6 with value: -0.4898869021423996.\n",
      "[I 2024-11-28 22:06:38,962] Trial 8 finished with value: -0.49673649968711253 and parameters: {'n_estimators': 249, 'max_depth': 8, 'learning_rate': 0.1212752015889276, 'subsample': 0.6753822469530082, 'colsample_bytree': 0.8278283635556412, 'gamma': 4.373102982704707, 'min_child_weight': 4}. Best is trial 6 with value: -0.4898869021423996.\n",
      "[I 2024-11-28 22:06:39,210] Trial 9 finished with value: -0.5187193256926765 and parameters: {'n_estimators': 160, 'max_depth': 4, 'learning_rate': 0.09916431566429518, 'subsample': 0.9505934705220376, 'colsample_bytree': 0.7271912617507565, 'gamma': 2.9747058373775657, 'min_child_weight': 9}. Best is trial 6 with value: -0.4898869021423996.\n",
      "[I 2024-11-28 22:06:39,664] Trial 10 finished with value: -0.4933184882923459 and parameters: {'n_estimators': 54, 'max_depth': 10, 'learning_rate': 0.29311793812621734, 'subsample': 0.98124733403783, 'colsample_bytree': 0.5006360833682066, 'gamma': 0.6183708036216382, 'min_child_weight': 7}. Best is trial 6 with value: -0.4898869021423996.\n",
      "[I 2024-11-28 22:06:39,926] Trial 11 finished with value: -0.49174845877857426 and parameters: {'n_estimators': 53, 'max_depth': 10, 'learning_rate': 0.26537425950039756, 'subsample': 0.999741620708159, 'colsample_bytree': 0.5164158243551591, 'gamma': 0.4583457208503443, 'min_child_weight': 7}. Best is trial 6 with value: -0.4898869021423996.\n",
      "[I 2024-11-28 22:06:40,719] Trial 12 finished with value: -0.4892585106471395 and parameters: {'n_estimators': 61, 'max_depth': 10, 'learning_rate': 0.2492679423651093, 'subsample': 0.9936870115750314, 'colsample_bytree': 0.5059146184241623, 'gamma': 0.05605814792132424, 'min_child_weight': 5}. Best is trial 12 with value: -0.4892585106471395.\n",
      "[I 2024-11-28 22:06:40,972] Trial 13 finished with value: -0.504910364912147 and parameters: {'n_estimators': 121, 'max_depth': 7, 'learning_rate': 0.2167192871214277, 'subsample': 0.9126673180382963, 'colsample_bytree': 0.5970588258879794, 'gamma': 5.1865837962334425, 'min_child_weight': 5}. Best is trial 12 with value: -0.4892585106471395.\n",
      "[I 2024-11-28 22:06:41,293] Trial 14 finished with value: -0.518499209280948 and parameters: {'n_estimators': 343, 'max_depth': 10, 'learning_rate': 0.21596320932052043, 'subsample': 0.5005806274270557, 'colsample_bytree': 0.5717294120717268, 'gamma': 8.08370103983191, 'min_child_weight': 5}. Best is trial 12 with value: -0.4892585106471395.\n",
      "[I 2024-11-28 22:06:41,809] Trial 15 finished with value: -0.48885308201414207 and parameters: {'n_estimators': 126, 'max_depth': 7, 'learning_rate': 0.04203205657755475, 'subsample': 0.7468923371386375, 'colsample_bytree': 0.6379255133215962, 'gamma': 1.4138673232140277, 'min_child_weight': 3}. Best is trial 15 with value: -0.48885308201414207.\n",
      "[I 2024-11-28 22:06:43,023] Trial 16 finished with value: -0.4971167572393644 and parameters: {'n_estimators': 295, 'max_depth': 7, 'learning_rate': 0.014028101751432341, 'subsample': 0.7299919359438579, 'colsample_bytree': 0.63871697101603, 'gamma': 1.2746805707708062, 'min_child_weight': 3}. Best is trial 15 with value: -0.48885308201414207.\n",
      "[I 2024-11-28 22:06:43,813] Trial 17 finished with value: -0.47454236919862713 and parameters: {'n_estimators': 108, 'max_depth': 8, 'learning_rate': 0.06182951037301507, 'subsample': 0.7577505483369563, 'colsample_bytree': 0.6154893611825619, 'gamma': 0.1260861505287888, 'min_child_weight': 1}. Best is trial 17 with value: -0.47454236919862713.\n",
      "[I 2024-11-28 22:06:44,219] Trial 18 finished with value: -0.4924290895790529 and parameters: {'n_estimators': 114, 'max_depth': 6, 'learning_rate': 0.05548910747309907, 'subsample': 0.7581300731729377, 'colsample_bytree': 0.6800292331589276, 'gamma': 1.479343602587471, 'min_child_weight': 1}. Best is trial 17 with value: -0.47454236919862713.\n",
      "[I 2024-11-28 22:06:45,227] Trial 19 finished with value: -0.4766532110029019 and parameters: {'n_estimators': 328, 'max_depth': 8, 'learning_rate': 0.04910704872660965, 'subsample': 0.6185349278181344, 'colsample_bytree': 0.7697390708600955, 'gamma': 1.4621157988153213, 'min_child_weight': 2}. Best is trial 17 with value: -0.47454236919862713.\n",
      "[I 2024-11-28 22:06:45,624] Trial 20 finished with value: -0.5023024015211703 and parameters: {'n_estimators': 342, 'max_depth': 8, 'learning_rate': 0.07343841709666661, 'subsample': 0.5931233584404544, 'colsample_bytree': 0.7713441058932512, 'gamma': 5.4411325109251365, 'min_child_weight': 1}. Best is trial 17 with value: -0.47454236919862713.\n",
      "[I 2024-11-28 22:06:46,455] Trial 21 finished with value: -0.4782775931332896 and parameters: {'n_estimators': 301, 'max_depth': 7, 'learning_rate': 0.04765705607190227, 'subsample': 0.6450550806411435, 'colsample_bytree': 0.8159609611245549, 'gamma': 1.4251766259149945, 'min_child_weight': 2}. Best is trial 17 with value: -0.47454236919862713.\n",
      "[I 2024-11-28 22:06:47,372] Trial 22 finished with value: -0.4737724505372702 and parameters: {'n_estimators': 317, 'max_depth': 8, 'learning_rate': 0.044190099157109176, 'subsample': 0.6230624042755799, 'colsample_bytree': 0.8222546736696658, 'gamma': 1.2119550584297514, 'min_child_weight': 2}. Best is trial 22 with value: -0.4737724505372702.\n",
      "[I 2024-11-28 22:06:48,750] Trial 23 finished with value: -0.46544135028652966 and parameters: {'n_estimators': 375, 'max_depth': 9, 'learning_rate': 0.09123572295516555, 'subsample': 0.5785119347868967, 'colsample_bytree': 0.9160156290997937, 'gamma': 0.30664444867305374, 'min_child_weight': 2}. Best is trial 23 with value: -0.46544135028652966.\n",
      "[I 2024-11-28 22:06:50,185] Trial 24 finished with value: -0.4652417698790464 and parameters: {'n_estimators': 391, 'max_depth': 9, 'learning_rate': 0.09324597052489839, 'subsample': 0.5326845136927214, 'colsample_bytree': 0.9999287593478787, 'gamma': 0.32623175626872225, 'min_child_weight': 2}. Best is trial 24 with value: -0.4652417698790464.\n",
      "[I 2024-11-28 22:06:50,706] Trial 25 finished with value: -0.4948575148474987 and parameters: {'n_estimators': 396, 'max_depth': 9, 'learning_rate': 0.0979281094833537, 'subsample': 0.5225570583056486, 'colsample_bytree': 0.965065454518484, 'gamma': 3.6617633492587465, 'min_child_weight': 2}. Best is trial 24 with value: -0.4652417698790464.\n",
      "[I 2024-11-28 22:06:51,719] Trial 26 finished with value: -0.4701917232004676 and parameters: {'n_estimators': 391, 'max_depth': 9, 'learning_rate': 0.09423881258015684, 'subsample': 0.5485274120026455, 'colsample_bytree': 0.9911487472668028, 'gamma': 0.7710821118256422, 'min_child_weight': 4}. Best is trial 24 with value: -0.4652417698790464.\n",
      "[I 2024-11-28 22:06:52,527] Trial 27 finished with value: -0.48450704649467297 and parameters: {'n_estimators': 460, 'max_depth': 9, 'learning_rate': 0.09781572617370703, 'subsample': 0.5539798453185636, 'colsample_bytree': 0.9993210094360667, 'gamma': 2.230085426333783, 'min_child_weight': 4}. Best is trial 24 with value: -0.4652417698790464.\n",
      "[I 2024-11-28 22:06:52,900] Trial 28 finished with value: -0.5814749522714994 and parameters: {'n_estimators': 402, 'max_depth': 1, 'learning_rate': 0.17102737104521618, 'subsample': 0.5488685612559805, 'colsample_bytree': 0.906760617655275, 'gamma': 0.6904528739656931, 'min_child_weight': 3}. Best is trial 24 with value: -0.4652417698790464.\n",
      "[I 2024-11-28 22:06:53,595] Trial 29 finished with value: -0.49906202270747313 and parameters: {'n_estimators': 498, 'max_depth': 9, 'learning_rate': 0.18793149356444755, 'subsample': 0.528620362077297, 'colsample_bytree': 0.9152283643403079, 'gamma': 3.454852309722047, 'min_child_weight': 10}. Best is trial 24 with value: -0.4652417698790464.\n",
      "[I 2024-11-28 22:06:54,046] Trial 30 finished with value: -0.48451269959695126 and parameters: {'n_estimators': 369, 'max_depth': 9, 'learning_rate': 0.11932108718347215, 'subsample': 0.5855279723308399, 'colsample_bytree': 0.9607607580271663, 'gamma': 2.1670600731461778, 'min_child_weight': 4}. Best is trial 24 with value: -0.4652417698790464.\n",
      "[I 2024-11-28 22:06:54,944] Trial 31 finished with value: -0.4739592655142798 and parameters: {'n_estimators': 437, 'max_depth': 9, 'learning_rate': 0.08344969022198792, 'subsample': 0.6359869351814074, 'colsample_bytree': 0.8864013477900202, 'gamma': 0.9097300706323249, 'min_child_weight': 2}. Best is trial 24 with value: -0.4652417698790464.\n",
      "[I 2024-11-28 22:06:58,269] Trial 32 finished with value: -0.4567097792505678 and parameters: {'n_estimators': 372, 'max_depth': 8, 'learning_rate': 0.032523746307587836, 'subsample': 0.6040102490736393, 'colsample_bytree': 0.9614278708031717, 'gamma': 0.09251618644799608, 'min_child_weight': 1}. Best is trial 32 with value: -0.4567097792505678.\n",
      "[I 2024-11-28 22:07:01,617] Trial 33 finished with value: -0.45852407458337063 and parameters: {'n_estimators': 377, 'max_depth': 8, 'learning_rate': 0.031027651419597523, 'subsample': 0.5644957770517424, 'colsample_bytree': 0.9982934715426508, 'gamma': 0.11111188036951378, 'min_child_weight': 1}. Best is trial 32 with value: -0.4567097792505678.\n",
      "[I 2024-11-28 22:07:03,226] Trial 34 finished with value: -0.4663105827193489 and parameters: {'n_estimators': 440, 'max_depth': 6, 'learning_rate': 0.02760754759039374, 'subsample': 0.5938223538933697, 'colsample_bytree': 0.9413563237813994, 'gamma': 0.06179790482272002, 'min_child_weight': 1}. Best is trial 32 with value: -0.4567097792505678.\n",
      "[I 2024-11-28 22:07:04,323] Trial 35 finished with value: -0.48299447242512217 and parameters: {'n_estimators': 375, 'max_depth': 8, 'learning_rate': 0.03116271477736951, 'subsample': 0.5038668972245263, 'colsample_bytree': 0.9601363633829785, 'gamma': 1.8716247835222521, 'min_child_weight': 1}. Best is trial 32 with value: -0.4567097792505678.\n",
      "[I 2024-11-28 22:07:04,749] Trial 36 finished with value: -0.4917671791635378 and parameters: {'n_estimators': 266, 'max_depth': 7, 'learning_rate': 0.07066921637861825, 'subsample': 0.6845784476467092, 'colsample_bytree': 0.8766736199411822, 'gamma': 2.7514367274385982, 'min_child_weight': 1}. Best is trial 32 with value: -0.4567097792505678.\n",
      "[I 2024-11-28 22:07:05,332] Trial 37 finished with value: -0.4916230602333811 and parameters: {'n_estimators': 422, 'max_depth': 5, 'learning_rate': 0.13721065624258505, 'subsample': 0.5632335347610372, 'colsample_bytree': 0.9388691971461008, 'gamma': 1.8871020054947576, 'min_child_weight': 3}. Best is trial 32 with value: -0.4567097792505678.\n",
      "[I 2024-11-28 22:07:05,893] Trial 38 finished with value: -0.5744153786811069 and parameters: {'n_estimators': 363, 'max_depth': 3, 'learning_rate': 0.013014096270861641, 'subsample': 0.6542376462215881, 'colsample_bytree': 0.985835437534774, 'gamma': 0.05523008464775403, 'min_child_weight': 2}. Best is trial 32 with value: -0.4567097792505678.\n",
      "[I 2024-11-28 22:07:07,593] Trial 39 finished with value: -0.4666000898295136 and parameters: {'n_estimators': 478, 'max_depth': 8, 'learning_rate': 0.03271241890053473, 'subsample': 0.7156207627722048, 'colsample_bytree': 0.8515504790064367, 'gamma': 0.7513398410115507, 'min_child_weight': 3}. Best is trial 32 with value: -0.4567097792505678.\n",
      "[I 2024-11-28 22:07:08,123] Trial 40 finished with value: -0.5047431654147744 and parameters: {'n_estimators': 422, 'max_depth': 10, 'learning_rate': 0.06292372815215563, 'subsample': 0.602362129548342, 'colsample_bytree': 0.9220053654722435, 'gamma': 6.17480796775037, 'min_child_weight': 1}. Best is trial 32 with value: -0.4567097792505678.\n",
      "[I 2024-11-28 22:07:10,626] Trial 41 finished with value: -0.4586745214375398 and parameters: {'n_estimators': 449, 'max_depth': 7, 'learning_rate': 0.08298155500681204, 'subsample': 0.5807470171329734, 'colsample_bytree': 0.9488131849610925, 'gamma': 0.11498994933174234, 'min_child_weight': 1}. Best is trial 32 with value: -0.4567097792505678.\n",
      "[I 2024-11-28 22:07:11,686] Trial 42 finished with value: -0.4700923622969334 and parameters: {'n_estimators': 459, 'max_depth': 7, 'learning_rate': 0.11080260019067495, 'subsample': 0.5306084056766537, 'colsample_bytree': 0.9763828016131306, 'gamma': 0.5285865357678924, 'min_child_weight': 2}. Best is trial 32 with value: -0.4567097792505678.\n",
      "[I 2024-11-28 22:07:12,538] Trial 43 finished with value: -0.4746142685800342 and parameters: {'n_estimators': 353, 'max_depth': 6, 'learning_rate': 0.07637694363831551, 'subsample': 0.5734848404478835, 'colsample_bytree': 0.9367087677299728, 'gamma': 0.9907241669619635, 'min_child_weight': 1}. Best is trial 32 with value: -0.4567097792505678.\n",
      "[I 2024-11-28 22:07:13,967] Trial 44 finished with value: -0.4723173377679519 and parameters: {'n_estimators': 419, 'max_depth': 8, 'learning_rate': 0.1352667045315838, 'subsample': 0.6115129178532756, 'colsample_bytree': 0.8923639451672073, 'gamma': 0.43089471193369605, 'min_child_weight': 1}. Best is trial 32 with value: -0.4567097792505678.\n",
      "[I 2024-11-28 22:07:14,885] Trial 45 finished with value: -0.48639099570242134 and parameters: {'n_estimators': 485, 'max_depth': 9, 'learning_rate': 0.08067231651054883, 'subsample': 0.572740078263158, 'colsample_bytree': 0.9590538501467996, 'gamma': 2.6305807965398085, 'min_child_weight': 2}. Best is trial 32 with value: -0.4567097792505678.\n",
      "[I 2024-11-28 22:07:15,247] Trial 46 finished with value: -0.5296174094247604 and parameters: {'n_estimators': 381, 'max_depth': 7, 'learning_rate': 0.15029067016722553, 'subsample': 0.6688207569193634, 'colsample_bytree': 0.9977446270622634, 'gamma': 9.991383636484908, 'min_child_weight': 2}. Best is trial 32 with value: -0.4567097792505678.\n",
      "[I 2024-11-28 22:07:15,604] Trial 47 finished with value: -0.5282596038145699 and parameters: {'n_estimators': 408, 'max_depth': 5, 'learning_rate': 0.1107925822490897, 'subsample': 0.8619667805271993, 'colsample_bytree': 0.8548771157824071, 'gamma': 8.496083231780975, 'min_child_weight': 6}. Best is trial 32 with value: -0.4567097792505678.\n",
      "[I 2024-11-28 22:07:16,307] Trial 48 finished with value: -0.4859577739429984 and parameters: {'n_estimators': 326, 'max_depth': 6, 'learning_rate': 0.06461482290712832, 'subsample': 0.7873417788787208, 'colsample_bytree': 0.9485520368829152, 'gamma': 1.7452523329033411, 'min_child_weight': 3}. Best is trial 32 with value: -0.4567097792505678.\n",
      "[I 2024-11-28 22:07:17,568] Trial 49 finished with value: -0.46825075083169193 and parameters: {'n_estimators': 283, 'max_depth': 10, 'learning_rate': 0.09042891542424587, 'subsample': 0.7096818777258143, 'colsample_bytree': 0.9161719472923008, 'gamma': 0.39374579295223655, 'min_child_weight': 1}. Best is trial 32 with value: -0.4567097792505678.\n",
      "[I 2024-11-28 22:07:18,799] Trial 50 finished with value: -0.4991718311933669 and parameters: {'n_estimators': 451, 'max_depth': 8, 'learning_rate': 0.038457354273359425, 'subsample': 0.5208116352768658, 'colsample_bytree': 0.9036749991387211, 'gamma': 4.382348891569253, 'min_child_weight': 3}. Best is trial 32 with value: -0.4567097792505678.\n",
      "[I 2024-11-28 22:07:20,650] Trial 51 finished with value: -0.4642272198990015 and parameters: {'n_estimators': 435, 'max_depth': 6, 'learning_rate': 0.031012469162988963, 'subsample': 0.5900398000492387, 'colsample_bytree': 0.9407384557104075, 'gamma': 0.12734041271386945, 'min_child_weight': 1}. Best is trial 32 with value: -0.4567097792505678.\n",
      "[I 2024-11-28 22:07:21,696] Trial 52 finished with value: -0.512868760563295 and parameters: {'n_estimators': 430, 'max_depth': 4, 'learning_rate': 0.017489632008717698, 'subsample': 0.5454155114862187, 'colsample_bytree': 0.9777129797826296, 'gamma': 1.0499818327764758, 'min_child_weight': 8}. Best is trial 32 with value: -0.4567097792505678.\n",
      "[I 2024-11-28 22:07:24,082] Trial 53 finished with value: -0.4629837153067345 and parameters: {'n_estimators': 385, 'max_depth': 7, 'learning_rate': 0.02565792579666959, 'subsample': 0.5815336171843319, 'colsample_bytree': 0.9337985335327449, 'gamma': 0.26041999510933184, 'min_child_weight': 1}. Best is trial 32 with value: -0.4567097792505678.\n",
      "[I 2024-11-28 22:07:27,172] Trial 54 finished with value: -0.4569736132162115 and parameters: {'n_estimators': 479, 'max_depth': 7, 'learning_rate': 0.029743383335151422, 'subsample': 0.6308126843891418, 'colsample_bytree': 0.9765189289286211, 'gamma': 0.0350535673915707, 'min_child_weight': 1}. Best is trial 32 with value: -0.4567097792505678.\n",
      "[I 2024-11-28 22:07:28,857] Trial 55 finished with value: -0.4727731851699624 and parameters: {'n_estimators': 467, 'max_depth': 7, 'learning_rate': 0.024546715369622385, 'subsample': 0.6332582636894357, 'colsample_bytree': 0.8721776500984311, 'gamma': 1.0012536900343516, 'min_child_weight': 1}. Best is trial 32 with value: -0.4567097792505678.\n",
      "[I 2024-11-28 22:07:29,612] Trial 56 finished with value: -0.4859295678147661 and parameters: {'n_estimators': 498, 'max_depth': 6, 'learning_rate': 0.05225888792180249, 'subsample': 0.6589746592950282, 'colsample_bytree': 0.9339261179411764, 'gamma': 1.7328394958814546, 'min_child_weight': 1}. Best is trial 32 with value: -0.4567097792505678.\n",
      "[I 2024-11-28 22:07:32,243] Trial 57 finished with value: -0.4542959228074837 and parameters: {'n_estimators': 477, 'max_depth': 7, 'learning_rate': 0.03620177497120403, 'subsample': 0.6147654179861212, 'colsample_bytree': 0.7901108704352999, 'gamma': 0.014525095600443405, 'min_child_weight': 1}. Best is trial 57 with value: -0.4542959228074837.\n",
      "[I 2024-11-28 22:07:34,449] Trial 58 finished with value: -0.4750738123876334 and parameters: {'n_estimators': 477, 'max_depth': 7, 'learning_rate': 0.013226426340060365, 'subsample': 0.6113196464115203, 'colsample_bytree': 0.7324544026272668, 'gamma': 0.6621883672074839, 'min_child_weight': 1}. Best is trial 57 with value: -0.4542959228074837.\n",
      "[I 2024-11-28 22:07:36,671] Trial 59 finished with value: -0.4588039288527212 and parameters: {'n_estimators': 411, 'max_depth': 7, 'learning_rate': 0.04039995134659804, 'subsample': 0.6285473637995659, 'colsample_bytree': 0.7000386985946047, 'gamma': 0.010377031846332029, 'min_child_weight': 2}. Best is trial 57 with value: -0.4542959228074837.\n",
      "[I 2024-11-28 22:07:39,737] Trial 60 finished with value: -0.454080670479778 and parameters: {'n_estimators': 450, 'max_depth': 8, 'learning_rate': 0.040640112301444854, 'subsample': 0.6304406141374583, 'colsample_bytree': 0.6851745738901553, 'gamma': 0.010693739098699764, 'min_child_weight': 2}. Best is trial 60 with value: -0.454080670479778.\n",
      "[I 2024-11-28 22:07:42,438] Trial 61 finished with value: -0.4533989526933633 and parameters: {'n_estimators': 447, 'max_depth': 8, 'learning_rate': 0.04073077701338349, 'subsample': 0.6976107290816179, 'colsample_bytree': 0.6895856810437626, 'gamma': 0.06932982127405926, 'min_child_weight': 2}. Best is trial 61 with value: -0.4533989526933633.\n",
      "[I 2024-11-28 22:07:43,286] Trial 62 finished with value: -0.47453647273315 and parameters: {'n_estimators': 452, 'max_depth': 8, 'learning_rate': 0.05716612671451482, 'subsample': 0.7112341982465221, 'colsample_bytree': 0.6650982097290072, 'gamma': 1.2590004041304583, 'min_child_weight': 2}. Best is trial 61 with value: -0.4533989526933633.\n",
      "[I 2024-11-28 22:07:48,011] Trial 63 finished with value: -0.46535701985569594 and parameters: {'n_estimators': 469, 'max_depth': 8, 'learning_rate': 0.04767846131998354, 'subsample': 0.692110217180015, 'colsample_bytree': 0.7880199101263259, 'gamma': 0.6288960353346285, 'min_child_weight': 1}. Best is trial 61 with value: -0.4533989526933633.\n",
      "[I 2024-11-28 22:07:51,402] Trial 64 finished with value: -0.45944275548776614 and parameters: {'n_estimators': 486, 'max_depth': 8, 'learning_rate': 0.039786155984751125, 'subsample': 0.6459950159964137, 'colsample_bytree': 0.7100166730759353, 'gamma': 0.4194216314552067, 'min_child_weight': 2}. Best is trial 61 with value: -0.4533989526933633.\n",
      "[I 2024-11-28 22:07:54,070] Trial 65 finished with value: -0.47902802361270747 and parameters: {'n_estimators': 447, 'max_depth': 7, 'learning_rate': 0.022196121177278032, 'subsample': 0.6685664192998874, 'colsample_bytree': 0.6148385733848635, 'gamma': 1.540530285181319, 'min_child_weight': 1}. Best is trial 61 with value: -0.4533989526933633.\n",
      "[I 2024-11-28 22:07:56,448] Trial 66 finished with value: -0.4626464113795564 and parameters: {'n_estimators': 225, 'max_depth': 8, 'learning_rate': 0.06911423886684899, 'subsample': 0.6074167542987399, 'colsample_bytree': 0.6604493115910319, 'gamma': 0.004483237200119575, 'min_child_weight': 3}. Best is trial 61 with value: -0.4533989526933633.\n",
      "[I 2024-11-28 22:07:57,051] Trial 67 finished with value: -0.49214587719504416 and parameters: {'n_estimators': 174, 'max_depth': 5, 'learning_rate': 0.05775559745124681, 'subsample': 0.5647218104973528, 'colsample_bytree': 0.7016743412315999, 'gamma': 1.2378014553090737, 'min_child_weight': 2}. Best is trial 61 with value: -0.4533989526933633.\n",
      "[I 2024-11-28 22:07:58,930] Trial 68 finished with value: -0.4673941236311592 and parameters: {'n_estimators': 498, 'max_depth': 8, 'learning_rate': 0.03561946718077142, 'subsample': 0.618862625153798, 'colsample_bytree': 0.744442124808914, 'gamma': 0.9047740860173672, 'min_child_weight': 1}. Best is trial 61 with value: -0.4533989526933633.\n",
      "[I 2024-11-28 22:08:00,341] Trial 69 finished with value: -0.5161512199544512 and parameters: {'n_estimators': 469, 'max_depth': 7, 'learning_rate': 0.011843600193108317, 'subsample': 0.6902184292430743, 'colsample_bytree': 0.5823362688812972, 'gamma': 7.157068182671361, 'min_child_weight': 2}. Best is trial 61 with value: -0.4533989526933633.\n",
      "[I 2024-11-28 22:08:01,768] Trial 70 finished with value: -0.4618246740489667 and parameters: {'n_estimators': 440, 'max_depth': 6, 'learning_rate': 0.05023321968135637, 'subsample': 0.7411460166696575, 'colsample_bytree': 0.794930678282376, 'gamma': 0.4128242119181586, 'min_child_weight': 1}. Best is trial 61 with value: -0.4533989526933633.\n",
      "[I 2024-11-28 22:08:03,716] Trial 71 finished with value: -0.4576115996969047 and parameters: {'n_estimators': 409, 'max_depth': 7, 'learning_rate': 0.04306253246760002, 'subsample': 0.629012449691906, 'colsample_bytree': 0.6829634661413423, 'gamma': 0.08732728207352321, 'min_child_weight': 2}. Best is trial 61 with value: -0.4533989526933633.\n",
      "[I 2024-11-28 22:08:04,910] Trial 72 finished with value: -0.46739318021740617 and parameters: {'n_estimators': 408, 'max_depth': 7, 'learning_rate': 0.04624407564192664, 'subsample': 0.647038370668355, 'colsample_bytree': 0.6911379698687663, 'gamma': 0.6953108129946236, 'min_child_weight': 2}. Best is trial 61 with value: -0.4533989526933633.\n",
      "[I 2024-11-28 22:08:07,116] Trial 73 finished with value: -0.45961580668019286 and parameters: {'n_estimators': 426, 'max_depth': 8, 'learning_rate': 0.02109954356699729, 'subsample': 0.599985100114865, 'colsample_bytree': 0.6292947334609263, 'gamma': 0.2529882227873673, 'min_child_weight': 6}. Best is trial 61 with value: -0.4533989526933633.\n",
      "[I 2024-11-28 22:08:08,180] Trial 74 finished with value: -0.4715851950685382 and parameters: {'n_estimators': 454, 'max_depth': 8, 'learning_rate': 0.03735599950424903, 'subsample': 0.6357678741595336, 'colsample_bytree': 0.7165590438217462, 'gamma': 1.0749895427332996, 'min_child_weight': 1}. Best is trial 61 with value: -0.4533989526933633.\n",
      "[I 2024-11-28 22:08:09,015] Trial 75 finished with value: -0.46920104609207397 and parameters: {'n_estimators': 395, 'max_depth': 7, 'learning_rate': 0.060599557781879275, 'subsample': 0.783368759015152, 'colsample_bytree': 0.657553690803202, 'gamma': 0.7545577944434144, 'min_child_weight': 2}. Best is trial 61 with value: -0.4533989526933633.\n",
      "[I 2024-11-28 22:08:09,539] Trial 76 finished with value: -0.49168842217506087 and parameters: {'n_estimators': 354, 'max_depth': 9, 'learning_rate': 0.23213712725480407, 'subsample': 0.6281401634119459, 'colsample_bytree': 0.6828584756891556, 'gamma': 0.47219186015938863, 'min_child_weight': 4}. Best is trial 61 with value: -0.4533989526933633.\n",
      "[I 2024-11-28 22:08:12,142] Trial 77 finished with value: -0.457975469131235 and parameters: {'n_estimators': 482, 'max_depth': 7, 'learning_rate': 0.028558757514681597, 'subsample': 0.6745267895633508, 'colsample_bytree': 0.9750943451340035, 'gamma': 0.03799775670252902, 'min_child_weight': 3}. Best is trial 61 with value: -0.4533989526933633.\n",
      "[I 2024-11-28 22:08:13,993] Trial 78 finished with value: -0.4970575717954251 and parameters: {'n_estimators': 479, 'max_depth': 8, 'learning_rate': 0.2811615053157719, 'subsample': 0.6626017653677752, 'colsample_bytree': 0.9692343601702781, 'gamma': 0.01479528663914636, 'min_child_weight': 3}. Best is trial 61 with value: -0.4533989526933633.\n",
      "[I 2024-11-28 22:08:14,864] Trial 79 finished with value: -0.5276444770831139 and parameters: {'n_estimators': 485, 'max_depth': 6, 'learning_rate': 0.01960557005146301, 'subsample': 0.6769505281854202, 'colsample_bytree': 0.6509698506668409, 'gamma': 9.222295494954482, 'min_child_weight': 3}. Best is trial 61 with value: -0.4533989526933633.\n",
      "[I 2024-11-28 22:08:16,827] Trial 80 finished with value: -0.47438019569219525 and parameters: {'n_estimators': 465, 'max_depth': 9, 'learning_rate': 0.03439729487392773, 'subsample': 0.7273675816065092, 'colsample_bytree': 0.6769382827155779, 'gamma': 1.5049581152497562, 'min_child_weight': 2}. Best is trial 61 with value: -0.4533989526933633.\n",
      "[I 2024-11-28 22:08:19,790] Trial 81 finished with value: -0.4835601279155366 and parameters: {'n_estimators': 444, 'max_depth': 7, 'learning_rate': 0.010174491264214647, 'subsample': 0.6471649010666815, 'colsample_bytree': 0.9832212643580419, 'gamma': 0.24430318954761018, 'min_child_weight': 1}. Best is trial 61 with value: -0.4533989526933633.\n",
      "[I 2024-11-28 22:08:21,540] Trial 82 finished with value: -0.4623927852996945 and parameters: {'n_estimators': 489, 'max_depth': 7, 'learning_rate': 0.02960355072428926, 'subsample': 0.700412543486763, 'colsample_bytree': 0.9549271214143031, 'gamma': 0.5245173544663264, 'min_child_weight': 1}. Best is trial 61 with value: -0.4533989526933633.\n",
      "[I 2024-11-28 22:08:22,449] Trial 83 finished with value: -0.4672233084486721 and parameters: {'n_estimators': 414, 'max_depth': 8, 'learning_rate': 0.042099202325454735, 'subsample': 0.6182337027848699, 'colsample_bytree': 0.5389589173990275, 'gamma': 0.8894425642740142, 'min_child_weight': 2}. Best is trial 61 with value: -0.4533989526933633.\n",
      "[I 2024-11-28 22:08:23,846] Trial 84 finished with value: -0.45887718870676697 and parameters: {'n_estimators': 433, 'max_depth': 7, 'learning_rate': 0.05155699705479991, 'subsample': 0.598812911992024, 'colsample_bytree': 0.7473618234849099, 'gamma': 0.28423780680584587, 'min_child_weight': 1}. Best is trial 61 with value: -0.4533989526933633.\n",
      "[I 2024-11-28 22:08:24,919] Trial 85 finished with value: -0.4672231369572189 and parameters: {'n_estimators': 458, 'max_depth': 6, 'learning_rate': 0.06705845144103367, 'subsample': 0.5604237551572476, 'colsample_bytree': 0.9712321849158083, 'gamma': 0.6269587022054715, 'min_child_weight': 2}. Best is trial 61 with value: -0.4533989526933633.\n",
      "[I 2024-11-28 22:08:25,462] Trial 86 finished with value: -0.4808384221782426 and parameters: {'n_estimators': 76, 'max_depth': 7, 'learning_rate': 0.08504443371416912, 'subsample': 0.5837303905545388, 'colsample_bytree': 0.9883111358515295, 'gamma': 0.025329990417672282, 'min_child_weight': 1}. Best is trial 61 with value: -0.4533989526933633.\n",
      "[I 2024-11-28 22:08:28,149] Trial 87 finished with value: -0.45712000094443994 and parameters: {'n_estimators': 401, 'max_depth': 8, 'learning_rate': 0.023449780227795224, 'subsample': 0.6372189620329897, 'colsample_bytree': 0.8341332868461017, 'gamma': 0.243940036107756, 'min_child_weight': 3}. Best is trial 61 with value: -0.4533989526933633.\n",
      "[I 2024-11-28 22:08:29,469] Trial 88 finished with value: -0.4725839918955896 and parameters: {'n_estimators': 398, 'max_depth': 8, 'learning_rate': 0.0268005285337177, 'subsample': 0.6749976410107803, 'colsample_bytree': 0.80331002554424, 'gamma': 1.2331260079904216, 'min_child_weight': 3}. Best is trial 61 with value: -0.4533989526933633.\n",
      "[I 2024-11-28 22:08:31,295] Trial 89 finished with value: -0.46823919233348327 and parameters: {'n_estimators': 365, 'max_depth': 8, 'learning_rate': 0.019346066076160705, 'subsample': 0.6593743750935364, 'colsample_bytree': 0.7631732503246493, 'gamma': 0.8338400503871027, 'min_child_weight': 3}. Best is trial 61 with value: -0.4533989526933633.\n",
      "[I 2024-11-28 22:08:31,685] Trial 90 finished with value: -0.5535135954604616 and parameters: {'n_estimators': 345, 'max_depth': 2, 'learning_rate': 0.04531866407495106, 'subsample': 0.6442118946778905, 'colsample_bytree': 0.7312293885024066, 'gamma': 2.418982581579863, 'min_child_weight': 4}. Best is trial 61 with value: -0.4533989526933633.\n",
      "[I 2024-11-28 22:08:34,490] Trial 91 finished with value: -0.4561774682277582 and parameters: {'n_estimators': 423, 'max_depth': 9, 'learning_rate': 0.0331599682573055, 'subsample': 0.6219682846667296, 'colsample_bytree': 0.8440499792369256, 'gamma': 0.25831583205673114, 'min_child_weight': 2}. Best is trial 61 with value: -0.4533989526933633.\n",
      "[I 2024-11-28 22:08:36,757] Trial 92 finished with value: -0.4585164890065932 and parameters: {'n_estimators': 383, 'max_depth': 9, 'learning_rate': 0.0314437566240825, 'subsample': 0.6200544515398312, 'colsample_bytree': 0.835878548285951, 'gamma': 0.33100138174385907, 'min_child_weight': 2}. Best is trial 61 with value: -0.4533989526933633.\n",
      "[I 2024-11-28 22:08:39,120] Trial 93 finished with value: -0.45671462416878034 and parameters: {'n_estimators': 425, 'max_depth': 9, 'learning_rate': 0.033443141299300864, 'subsample': 0.6215239062647164, 'colsample_bytree': 0.8380311538942041, 'gamma': 0.2913321045003161, 'min_child_weight': 3}. Best is trial 61 with value: -0.4533989526933633.\n",
      "[I 2024-11-28 22:08:40,372] Trial 94 finished with value: -0.4635150838607194 and parameters: {'n_estimators': 421, 'max_depth': 10, 'learning_rate': 0.05516225004176405, 'subsample': 0.6345727683817687, 'colsample_bytree': 0.839143745911727, 'gamma': 0.5191260980915251, 'min_child_weight': 5}. Best is trial 61 with value: -0.4533989526933633.\n",
      "[I 2024-11-28 22:08:41,318] Trial 95 finished with value: -0.47234017757550284 and parameters: {'n_estimators': 473, 'max_depth': 9, 'learning_rate': 0.17475439574814491, 'subsample': 0.6084798161425704, 'colsample_bytree': 0.8131197824091234, 'gamma': 0.2653064638803935, 'min_child_weight': 3}. Best is trial 61 with value: -0.4533989526933633.\n",
      "[I 2024-11-28 22:08:42,502] Trial 96 finished with value: -0.4646725805093711 and parameters: {'n_estimators': 246, 'max_depth': 9, 'learning_rate': 0.041563393217689676, 'subsample': 0.6545158186612818, 'colsample_bytree': 0.8611995757447745, 'gamma': 0.6059369141510607, 'min_child_weight': 4}. Best is trial 61 with value: -0.4533989526933633.\n",
      "[I 2024-11-28 22:08:44,220] Trial 97 finished with value: -0.46804013046653437 and parameters: {'n_estimators': 429, 'max_depth': 10, 'learning_rate': 0.024661423427127824, 'subsample': 0.5930034173022043, 'colsample_bytree': 0.830431025975223, 'gamma': 1.0692035708611907, 'min_child_weight': 3}. Best is trial 61 with value: -0.4533989526933633.\n",
      "[I 2024-11-28 22:08:45,008] Trial 98 finished with value: -0.4921742671827246 and parameters: {'n_estimators': 444, 'max_depth': 9, 'learning_rate': 0.03590844312750705, 'subsample': 0.9626021950438017, 'colsample_bytree': 0.7761364216180526, 'gamma': 4.650277813652842, 'min_child_weight': 2}. Best is trial 61 with value: -0.4533989526933633.\n",
      "[I 2024-11-28 22:08:46,302] Trial 99 finished with value: -0.4839410631583266 and parameters: {'n_estimators': 460, 'max_depth': 9, 'learning_rate': 0.017507519032235273, 'subsample': 0.6774968547797722, 'colsample_bytree': 0.8479354042808737, 'gamma': 3.1945965113641064, 'min_child_weight': 3}. Best is trial 61 with value: -0.4533989526933633.\n"
     ]
    },
    {
     "name": "stdout",
     "output_type": "stream",
     "text": [
      "FrozenTrial(number=61, state=1, values=[-0.4533989526933633], datetime_start=datetime.datetime(2024, 11, 28, 22, 7, 39, 737643), datetime_complete=datetime.datetime(2024, 11, 28, 22, 7, 42, 438709), params={'n_estimators': 447, 'max_depth': 8, 'learning_rate': 0.04073077701338349, 'subsample': 0.6976107290816179, 'colsample_bytree': 0.6895856810437626, 'gamma': 0.06932982127405926, 'min_child_weight': 2}, user_attrs={}, system_attrs={}, intermediate_values={}, distributions={'n_estimators': IntDistribution(high=500, log=False, low=50, step=1), 'max_depth': IntDistribution(high=10, log=False, low=1, step=1), 'learning_rate': FloatDistribution(high=0.3, log=False, low=0.01, step=None), 'subsample': FloatDistribution(high=1.0, log=False, low=0.5, step=None), 'colsample_bytree': FloatDistribution(high=1.0, log=False, low=0.5, step=None), 'gamma': FloatDistribution(high=10.0, log=False, low=0.0, step=None), 'min_child_weight': IntDistribution(high=10, log=False, low=1, step=1)}, trial_id=61, value=None)\n"
     ]
    }
   ],
   "source": [
    "# Se utiliza Optuna para encontrar los mejores hiperparámetros con la opcion de maximize\n",
    "# ya que la metrica con la que se puntua en la validacion cruzada es neg_root_mean_squared_error\n",
    "# el cual es negativo y maximizar un valor negativo es lo mismo que minimizar un valor positivo\n",
    "study = optuna.create_study(direction='maximize')\n",
    "study.optimize(objective, n_trials=100)\n",
    "print(study.best_trial)"
   ]
  },
  {
   "cell_type": "markdown",
   "metadata": {
    "id": "v2JQU7uHm99Q"
   },
   "source": [
    "# 5. Resultados de la optimización"
   ]
  },
  {
   "cell_type": "code",
   "execution_count": 16,
   "metadata": {
    "colab": {
     "base_uri": "https://localhost:8080/"
    },
    "executionInfo": {
     "elapsed": 278,
     "status": "ok",
     "timestamp": 1732812080210,
     "user": {
      "displayName": "Fredy Ramirez",
      "userId": "04196799857250133485"
     },
     "user_tz": 300
    },
    "id": "CKfLy_5l7hzJ",
    "outputId": "ef50bd9d-2ee6-4f87-bf66-952687364898"
   },
   "outputs": [
    {
     "name": "stdout",
     "output_type": "stream",
     "text": [
      "Mejores hiperparámetros encontrados:\n",
      "{'n_estimators': 447, 'max_depth': 8, 'learning_rate': 0.04073077701338349, 'subsample': 0.6976107290816179, 'colsample_bytree': 0.6895856810437626, 'gamma': 0.06932982127405926, 'min_child_weight': 2}\n",
      "\n",
      "Mejor RMSE obtenido:\n",
      "-0.4533989526933633\n"
     ]
    }
   ],
   "source": [
    "# Paso 6: Mostrar los mejores resultados\n",
    "# ----------------------------------------\n",
    "# Optuna ofrece funciones para obtener el mejor conjunto de parámetros.\n",
    "print('Mejores hiperparámetros encontrados:')\n",
    "print(study.best_params)\n",
    "\n",
    "print('\\nMejor RMSE obtenido:')\n",
    "print(study.best_value)\n"
   ]
  },
  {
   "cell_type": "markdown",
   "metadata": {
    "id": "WPRMDYuDe8ih"
   },
   "source": [
    "# 6. Entrenamiento del modelo final"
   ]
  },
  {
   "cell_type": "code",
   "execution_count": 17,
   "metadata": {
    "colab": {
     "base_uri": "https://localhost:8080/"
    },
    "executionInfo": {
     "elapsed": 844,
     "status": "ok",
     "timestamp": 1732812289542,
     "user": {
      "displayName": "Fredy Ramirez",
      "userId": "04196799857250133485"
     },
     "user_tz": 300
    },
    "id": "h52qS2Tn7kP0",
    "outputId": "28b3bbc6-0ba4-423d-f651-b1c2d9dccb6c"
   },
   "outputs": [
    {
     "name": "stdout",
     "output_type": "stream",
     "text": [
      "RMSE del modelo final:\n",
      "0.44430813722035\n"
     ]
    }
   ],
   "source": [
    "# Entrenar el modelo final con los mejores hiperparámetros\n",
    "# ----------------------------------------------------------------\n",
    "best_params = study.best_params\n",
    "final_model = xgb.XGBRegressor(**best_params, random_state=42)\n",
    "final_model.fit(X_train, y_train)\n",
    "\n",
    "# Predecir y evaluar el modelo final\n",
    "final_preds = final_model.predict(X_test)\n",
    "final_rmse = root_mean_squared_error(y_test, final_preds)\n",
    "\n",
    "print('RMSE del modelo final:')\n",
    "print(final_rmse)"
   ]
  },
  {
   "cell_type": "code",
   "execution_count": 18,
   "metadata": {},
   "outputs": [
    {
     "data": {
      "text/plain": [
       "np.float64(0.16713269328139715)"
      ]
     },
     "execution_count": 18,
     "metadata": {},
     "output_type": "execute_result"
    }
   ],
   "source": [
    "# Evaluar el desempeño del modelo final con MAPE (Interpretabilidad)\n",
    "mean_absolute_percentage_error(y_test, final_preds)"
   ]
  },
  {
   "cell_type": "code",
   "execution_count": 24,
   "metadata": {},
   "outputs": [
    {
     "data": {
      "text/plain": [
       "np.float64(0.28963875091084906)"
      ]
     },
     "execution_count": 24,
     "metadata": {},
     "output_type": "execute_result"
    }
   ],
   "source": [
    "# Evaluar con MAE\n",
    "mean_absolute_error(y_test, final_preds)"
   ]
  }
 ],
 "metadata": {
  "colab": {
   "authorship_tag": "ABX9TyPcXWvVtTlAAthCXkihJmnL",
   "provenance": []
  },
  "kernelspec": {
   "display_name": "venv",
   "language": "python",
   "name": "python3"
  },
  "language_info": {
   "codemirror_mode": {
    "name": "ipython",
    "version": 3
   },
   "file_extension": ".py",
   "mimetype": "text/x-python",
   "name": "python",
   "nbconvert_exporter": "python",
   "pygments_lexer": "ipython3",
   "version": "3.11.9"
  }
 },
 "nbformat": 4,
 "nbformat_minor": 0
}
